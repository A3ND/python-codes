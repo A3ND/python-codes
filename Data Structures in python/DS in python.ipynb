{
 "cells": [
  {
   "cell_type": "code",
   "execution_count": 2,
   "metadata": {},
   "outputs": [
    {
     "name": "stdout",
     "output_type": "stream",
     "text": [
      "[12, True, 'shop', 23.0]\n",
      "[12, True, 'shop', 23.0, 'products']\n",
      "[12, True, False, 'shop', 23.0, 'products']\n"
     ]
    }
   ],
   "source": [
    "# Python list\n",
    "items = [12, True, \"shop\", 23.00] # a list with variable items\n",
    "print(items) # print the list elements\n",
    "items.append(\"products\") # append a value in a list\n",
    "print(items) # print the list elements\n",
    "items.insert(2, False) # using insert method to insert False at 2nd index\n",
    "print(items)\n"
   ]
  },
  {
   "cell_type": "markdown",
   "metadata": {},
   "source": [
    "The list **insert()** method *returns None, but only updates the list.*"
   ]
  },
  {
   "cell_type": "markdown",
   "metadata": {},
   "source": [
    "###Python Tuple\n"
   ]
  }
 ],
 "metadata": {
  "kernelspec": {
   "display_name": "Python 3.10.0 64-bit",
   "language": "python",
   "name": "python3"
  },
  "language_info": {
   "codemirror_mode": {
    "name": "ipython",
    "version": 3
   },
   "file_extension": ".py",
   "mimetype": "text/x-python",
   "name": "python",
   "nbconvert_exporter": "python",
   "pygments_lexer": "ipython3",
   "version": "3.10.0"
  },
  "orig_nbformat": 4,
  "vscode": {
   "interpreter": {
    "hash": "9174b9388ce7d5b5d1fa8052fdccf28599993694e8f9f351d3a9feac9f5314f3"
   }
  }
 },
 "nbformat": 4,
 "nbformat_minor": 2
}
