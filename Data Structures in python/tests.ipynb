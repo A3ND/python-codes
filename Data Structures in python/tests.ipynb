{
 "cells": [
  {
   "cell_type": "code",
   "execution_count": 2,
   "metadata": {},
   "outputs": [
    {
     "name": "stdout",
     "output_type": "stream",
     "text": [
      "['A', 'B']\n",
      "['A', 'B', 'C']\n",
      "C\n",
      "['A', 'B']\n",
      "True\n"
     ]
    }
   ],
   "source": [
    "class stack():\n",
    "    def __init__(self):\n",
    "        self.items = []\n",
    "    \n",
    "    def push(self,item):\n",
    "        self.items.append(item)\n",
    "    \n",
    "    def pop(self):\n",
    "        return self.items.pop()\n",
    "    \n",
    "    def is_empty(self):\n",
    "        return self.items == []\n",
    "\n",
    "    def get_stack(self):\n",
    "        return self.items\n",
    "    \n",
    "    def peek(self):\n",
    "        return self.items[-1]\n",
    "\n",
    "mystack = stack()\n",
    "mystack.push(\"A\")\n",
    "mystack.push(\"B\")\n",
    "print(mystack.get_stack())\n",
    "mystack.push(\"C\")\n",
    "print(mystack.get_stack())\n",
    "print(mystack.peek())\n",
    "mystack.pop()\n",
    "print(mystack.get_stack())\n",
    "mystack.pop()\n",
    "mystack.pop()\n",
    "print(mystack.is_empty())\n"
   ]
  },
  {
   "cell_type": "code",
   "execution_count": 7,
   "id": "1f547429",
   "metadata": {},
   "outputs": [
    {
     "name": "stdout",
     "output_type": "stream",
     "text": [
      "[]\n",
      "['A', 'Z']\n",
      "['A']\n",
      "['A', 'C', 'D']\n",
      "D\n"
     ]
    }
   ],
   "source": [
    "class stack():\n",
    "    def __init__(self):\n",
    "        self.items = []\n",
    "\n",
    "    def push(self,x):\n",
    "        self.items.append(x)\n",
    "    \n",
    "    def pop(self):\n",
    "        self.items.pop()\n",
    "    \n",
    "    def get_stack(self):\n",
    "        return self.items\n",
    "    \n",
    "    def is_empty(self):\n",
    "        return self.items == []\n",
    "    \n",
    "    def peek(self):\n",
    "        return self.items[-1]\n",
    "\n",
    "\n",
    "mystack = stack()\n",
    "print(mystack.get_stack())\n",
    "mystack.push(\"A\")\n",
    "mystack.push(\"Z\")\n",
    "print(mystack.get_stack())\n",
    "mystack.pop()\n",
    "print(mystack.get_stack())\n",
    "mystack.push(\"C\")\n",
    "mystack.push(\"D\")\n",
    "print(mystack.get_stack())\n",
    "print(mystack.peek())\n"
   ]
  },
  {
   "cell_type": "code",
   "execution_count": 1,
   "id": "76b2930c",
   "metadata": {},
   "outputs": [
    {
     "name": "stdout",
     "output_type": "stream",
     "text": [
      "hello world\n"
     ]
    }
   ],
   "source": [
    "print(\"hello world\")"
   ]
  }
 ],
 "metadata": {
  "kernelspec": {
   "display_name": "Python 3.10.0 64-bit",
   "language": "python",
   "name": "python3"
  },
  "language_info": {
   "codemirror_mode": {
    "name": "ipython",
    "version": 3
   },
   "file_extension": ".py",
   "mimetype": "text/x-python",
   "name": "python",
   "nbconvert_exporter": "python",
   "pygments_lexer": "ipython3",
   "version": "3.10.0"
  },
  "vscode": {
   "interpreter": {
    "hash": "9174b9388ce7d5b5d1fa8052fdccf28599993694e8f9f351d3a9feac9f5314f3"
   }
  }
 },
 "nbformat": 4,
 "nbformat_minor": 5
}
